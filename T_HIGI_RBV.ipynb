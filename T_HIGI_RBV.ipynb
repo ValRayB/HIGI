{
  "nbformat": 4,
  "nbformat_minor": 0,
  "metadata": {
    "colab": {
      "provenance": [],
      "authorship_tag": "ABX9TyM8uLraVtCMSG7fDmAe0AqK",
      "include_colab_link": true
    },
    "kernelspec": {
      "name": "python3",
      "display_name": "Python 3"
    },
    "language_info": {
      "name": "python"
    }
  },
  "cells": [
    {
      "cell_type": "markdown",
      "metadata": {
        "id": "view-in-github",
        "colab_type": "text"
      },
      "source": [
        "<a href=\"https://colab.research.google.com/github/ValRayB/HIGI/blob/main/T_HIGI_RBV.ipynb\" target=\"_parent\"><img src=\"https://colab.research.google.com/assets/colab-badge.svg\" alt=\"Open In Colab\"/></a>"
      ]
    },
    {
      "cell_type": "code",
      "execution_count": 20,
      "metadata": {
        "id": "vvdyLu8iYmBc"
      },
      "outputs": [],
      "source": [
        "import os\n",
        "import numpy as np\n",
        "import matplotlib.pyplot as plt\n",
        "import math as math\n",
        "import sympy"
      ]
    },
    {
      "cell_type": "code",
      "source": [
        "def planetas(x0, y0, z0, vx0, vy0, vz0, t0=0, dt=0.01 ,nsteps=100):\n",
        "    x = [x0] \n",
        "    y = [y0]\n",
        "    z = [z0]\n",
        "    t = [t0]\n",
        "    G = 4*(np.pi**2)\n",
        "    M = 1\n",
        "    rp = np.sqrt( x0*2 + y0*2 + z0*2 ) \n",
        "    for i in range(1, nsteps):\n",
        "        Vxi = vx0 - ( (G*M) / rp**3 )*x0 *dt;\n",
        "        xi = x0 + Vxi*dt;\n",
        "        Vyi = vy0 - ( (G*M) / rp**3 )*y0 *dt ;\n",
        "        yi = y0 + Vyi*dt;\n",
        "        Vzi = vz0 - ( (G*M) / rp**3 )*z0 *dt ;\n",
        "        zi = z0 + Vzi*dt;\n",
        "        x.append(xi);\n",
        "        y.append(yi);\n",
        "        z.append(zi);\n",
        "        t.append(t0+dt*i);\n",
        "        x0 = xi;\n",
        "        vx0 = Vxi ;\n",
        "        y0= yi;\n",
        "        vy0 = Vyi;\n",
        "        z0 = zi;\n",
        "        vz0 = Vzi;\n",
        "        \n",
        "    return x, y, z, t;"
      ],
      "metadata": {
        "id": "udK5RNYaZHNY"
      },
      "execution_count": 28,
      "outputs": []
    },
    {
      "cell_type": "code",
      "source": [
        "x, y, z, t=solar(0.0508011, 0.022318, -0.4011642, -0.2195576,0.00485553,0.00027924,100)\n",
        "plt.plot(t)"
      ],
      "metadata": {
        "colab": {
          "base_uri": "https://localhost:8080/",
          "height": 317
        },
        "id": "vOdOc7wEZRDC",
        "outputId": "569ee3a4-7e64-4110-fd68-c5a026701538"
      },
      "execution_count": 38,
      "outputs": [
        {
          "output_type": "stream",
          "name": "stderr",
          "text": [
            "/usr/local/lib/python3.7/dist-packages/ipykernel_launcher.py:4: RuntimeWarning: invalid value encountered in sqrt\n",
            "  after removing the cwd from sys.path.\n"
          ]
        },
        {
          "output_type": "execute_result",
          "data": {
            "text/plain": [
              "[<matplotlib.lines.Line2D at 0x7f7a98abf650>]"
            ]
          },
          "metadata": {},
          "execution_count": 38
        },
        {
          "output_type": "display_data",
          "data": {
            "text/plain": [
              "<Figure size 432x288 with 1 Axes>"
            ],
            "image/png": "[encoded data removed]"
          },
          "metadata": {
            "needs_background": "light"
          }
        }
      ]
    },
    {
      "cell_type": "code",
      "source": [],
      "metadata": {
        "id": "kc4acCT1bWy9"
      },
      "execution_count": 11,
      "outputs": []
    }
  ]
}